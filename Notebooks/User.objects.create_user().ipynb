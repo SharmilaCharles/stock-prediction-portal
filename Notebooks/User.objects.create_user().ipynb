{
 "cells": [
  {
   "cell_type": "markdown",
   "metadata": {},
   "source": [
    "### **User.objects.create & User.objects.create_user in modelSerializer**"
   ]
  },
  {
   "cell_type": "markdown",
   "metadata": {},
   "source": [
    "In Django's `ModelSerializer` (from Django REST Framework), there is a key difference between using `User.objects.create()` and `User.objects.create_user()`. Understanding when to use each is important, especially when dealing with user authentication.\n",
    "\n",
    "### 1. **`User.objects.create()`**\n",
    "   - This is a standard method that directly creates an instance of the `User` model.\n",
    "   - It does **not** handle password hashing.\n",
    "   - You must manually hash the password before saving it.\n",
    "\n",
    "   **Example in ModelSerializer:**\n",
    "   ```python\n",
    "   from rest_framework import serializers\n",
    "   from django.contrib.auth.models import User\n",
    "\n",
    "   class UserSerializer(serializers.ModelSerializer):\n",
    "       class Meta:\n",
    "           model = User\n",
    "           fields = ['username', 'email', 'password']\n",
    "           extra_kwargs = {'password': {'write_only': True}}\n",
    "\n",
    "       def create(self, validated_data):\n",
    "           # If using create(), you MUST hash the password manually\n",
    "           user = User.objects.create(\n",
    "               username=validated_data['username'],\n",
    "               email=validated_data['email']\n",
    "           )\n",
    "           user.set_password(validated_data['password'])  # Hash password\n",
    "           user.save()\n",
    "           return user\n",
    "   ```\n",
    "\n",
    "---\n",
    "\n",
    "### 2. **`User.objects.create_user()`**\n",
    "   - This is a built-in helper method in Django’s `UserManager` (`django.contrib.auth.models.UserManager`).\n",
    "   - It **automatically hashes the password** before saving.\n",
    "   - Preferred for creating user objects to avoid security risks.\n",
    "\n",
    "   **Example in ModelSerializer:**\n",
    "   ```python\n",
    "   class UserSerializer(serializers.ModelSerializer):\n",
    "       class Meta:\n",
    "           model = User\n",
    "           fields = ['username', 'email', 'password']\n",
    "           extra_kwargs = {'password': {'write_only': True}}\n",
    "\n",
    "       def create(self, validated_data):\n",
    "           # Using create_user(), no need to manually hash the password\n",
    "           return User.objects.create_user(**validated_data)\n",
    "   ```\n",
    "\n",
    "---\n",
    "\n",
    "### **Key Differences**\n",
    "| Feature                 | `create()`                      | `create_user()`                |\n",
    "|------------------------|--------------------------------|--------------------------------|\n",
    "| Password Handling     | Needs manual hashing (`set_password()`). | Automatically hashes the password. |\n",
    "| Security Risk         | High (if password is stored in plain text). | Low (password is always hashed). |\n",
    "| Usage Recommendation | Not recommended for users. | Preferred for creating users. |\n",
    "\n",
    "### **Which One to Use?**\n",
    "- Always use **`create_user()`** when dealing with user creation in Django authentication.\n",
    "- If you use **`create()`**, make sure to manually hash the password using `set_password()`.\n"
   ]
  }
 ],
 "metadata": {
  "kernelspec": {
   "display_name": "stock_env",
   "language": "python",
   "name": "python3"
  },
  "language_info": {
   "name": "python",
   "version": "3.12.7"
  }
 },
 "nbformat": 4,
 "nbformat_minor": 2
}
